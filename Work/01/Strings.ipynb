{
 "cells": [
  {
   "cell_type": "code",
   "execution_count": 9,
   "source": [
    "def print_len(a):\n",
    "    print(\"len({})={}\".format(a,len(a)))\n",
    "\n",
    "a = 'Hello World'\n",
    "ab = b'Hello World'\n",
    "print_len(a)\n",
    "print_len(ab)"
   ],
   "outputs": [
    {
     "output_type": "stream",
     "name": "stdout",
     "text": [
      "len(Hello World)=11\n",
      "len(b'Hello World')=11\n"
     ]
    }
   ],
   "metadata": {}
  },
  {
   "cell_type": "code",
   "execution_count": 47,
   "source": [
    "symbols = 'AAPL,IBM,MSFT,YHOO,SCO'"
   ],
   "outputs": [],
   "metadata": {}
  },
  {
   "cell_type": "code",
   "execution_count": 51,
   "source": [
    "symbols_goog = symbols + 'GOOG'\n",
    "symbols = symbols_goog.replace('GOOG',\",GOOG\",1)"
   ],
   "outputs": [],
   "metadata": {}
  },
  {
   "cell_type": "code",
   "execution_count": 53,
   "source": [
    "symbols = 'HPQ,' + symbols"
   ],
   "outputs": [],
   "metadata": {}
  },
  {
   "cell_type": "code",
   "execution_count": 61,
   "source": [
    "def membership_test(str,check):\n",
    "    is_in = check in str\n",
    "    print(f\"{check} in {str} is : {is_in}\")\n",
    "membership_test(symbols,'IBM')\n",
    "membership_test(symbols,'AA')\n",
    "membership_test(symbols,'CAT')\n"
   ],
   "outputs": [
    {
     "output_type": "stream",
     "name": "stdout",
     "text": [
      "IBM in HPQ,AAPL,IBM,MSFT,YHOO,SCO,GOOG is : True\n",
      "AA in HPQ,AAPL,IBM,MSFT,YHOO,SCO,GOOG is : True\n",
      "CAT in HPQ,AAPL,IBM,MSFT,YHOO,SCO,GOOG is : False\n"
     ]
    }
   ],
   "metadata": {}
  },
  {
   "cell_type": "code",
   "execution_count": 69,
   "source": [
    "lower_symbols = symbols.lower()\n",
    "print(f\"Lower Symbols:{lower_symbols:30s}\")"
   ],
   "outputs": [
    {
     "output_type": "stream",
     "name": "stdout",
     "text": [
      "Lower Symbols:hpq,aapl,ibm,msft,yhoo,sco,goog\n"
     ]
    }
   ],
   "metadata": {}
  },
  {
   "cell_type": "code",
   "execution_count": 87,
   "source": [
    "','.join(dir('Hello'))"
   ],
   "outputs": [
    {
     "output_type": "execute_result",
     "data": {
      "text/plain": [
       "'__add__,__class__,__contains__,__delattr__,__dir__,__doc__,__eq__,__format__,__ge__,__getattribute__,__getitem__,__getnewargs__,__gt__,__hash__,__init__,__init_subclass__,__iter__,__le__,__len__,__lt__,__mod__,__mul__,__ne__,__new__,__reduce__,__reduce_ex__,__repr__,__rmod__,__rmul__,__setattr__,__sizeof__,__str__,__subclasshook__,capitalize,casefold,center,count,encode,endswith,expandtabs,find,format,format_map,index,isalnum,isalpha,isascii,isdecimal,isdigit,isidentifier,islower,isnumeric,isprintable,isspace,istitle,isupper,join,ljust,lower,lstrip,maketrans,partition,replace,rfind,rindex,rjust,rpartition,rsplit,rstrip,split,splitlines,startswith,strip,swapcase,title,translate,upper,zfill'"
      ]
     },
     "metadata": {},
     "execution_count": 87
    }
   ],
   "metadata": {}
  }
 ],
 "metadata": {
  "orig_nbformat": 4,
  "language_info": {
   "name": "python",
   "version": "3.8.2",
   "mimetype": "text/x-python",
   "codemirror_mode": {
    "name": "ipython",
    "version": 3
   },
   "pygments_lexer": "ipython3",
   "nbconvert_exporter": "python",
   "file_extension": ".py"
  },
  "kernelspec": {
   "name": "python3",
   "display_name": "Python 3.8.2 64-bit ('.venv': venv)"
  },
  "interpreter": {
   "hash": "cce4a5697f16280a4d10b7576d65bbb5f75983e07cf642dfa911d50871b8420d"
  }
 },
 "nbformat": 4,
 "nbformat_minor": 2
}