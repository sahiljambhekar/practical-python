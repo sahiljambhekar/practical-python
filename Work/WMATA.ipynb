{
 "cells": [
  {
   "cell_type": "markdown",
   "source": [
    "### WMATA API\n",
    "- [Visit API](https://developer.wmata.com/docs/services/)"
   ],
   "metadata": {}
  },
  {
   "cell_type": "code",
   "execution_count": 9,
   "source": [
    "## Imports\n",
    "import urllib.response\n",
    "from urllib.error import  HTTPError\n",
    "import sys\n",
    "import urllib.request\n",
    "from urllib.request import Request"
   ],
   "outputs": [],
   "metadata": {}
  },
  {
   "cell_type": "code",
   "execution_count": 10,
   "source": [
    "\n",
    "\n",
    "WMATA_BASE=\"https://api.wmata.com/Bus.svc/json\"\n",
    "SCHEDULE_API=\"{0}/jRouteSchedule\".format(WMATA_BASE)\n",
    "POSITION_API=\"/jBusPositions?RouteId=38B\"\n",
    "\n",
    "headers = {\n",
    "    # Request headers\n",
    "    'api_key': 'e13626d03d8e4c03ac07f95541b3091b',\n",
    "}\n",
    "\n",
    "params = urllib.parse.urlencode({\n",
    "    # Request parameters\n",
    "    'RouteID': '70',\n",
    "    'Lat': '{number}',\n",
    "    'Lon': '{number}',\n",
    "    'Radius': '{number}',\n",
    "})"
   ],
   "outputs": [],
   "metadata": {}
  },
  {
   "cell_type": "code",
   "execution_count": 12,
   "source": [
    "\n",
    "try:\n",
    "  schedules=urllib.request.urlopen(Request(url=SCHEDULE_API,headers=headers))\n",
    "except HTTPError as he:\n",
    "  print(\"Encountered HTTP Error {}\".format(he))    \n",
    "except Exception as e:\n",
    "    print(\"Encountered error {} of type : {}\".format(e,type(e)))     "
   ],
   "outputs": [
    {
     "output_type": "stream",
     "name": "stdout",
     "text": [
      "Encountered HTTP Error HTTP Error 403: Quota Exceeded\n"
     ]
    }
   ],
   "metadata": {}
  }
 ],
 "metadata": {
  "orig_nbformat": 4,
  "language_info": {
   "name": "python",
   "version": "3.8.2",
   "mimetype": "text/x-python",
   "codemirror_mode": {
    "name": "ipython",
    "version": 3
   },
   "pygments_lexer": "ipython3",
   "nbconvert_exporter": "python",
   "file_extension": ".py"
  },
  "kernelspec": {
   "name": "python3",
   "display_name": "Python 3.8.2 64-bit ('.venv': venv)"
  },
  "interpreter": {
   "hash": "cce4a5697f16280a4d10b7576d65bbb5f75983e07cf642dfa911d50871b8420d"
  }
 },
 "nbformat": 4,
 "nbformat_minor": 2
}