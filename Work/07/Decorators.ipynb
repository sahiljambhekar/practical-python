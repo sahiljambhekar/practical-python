{
 "cells": [
  {
   "cell_type": "code",
   "execution_count": 2,
   "source": [
    "import importlib\n",
    "import loggers\n",
    "\n",
    "importlib.reload(loggers)\n",
    "\n",
    "@loggers.logged\n",
    "def add(a,b):\n",
    "    return a+b\n",
    "\n",
    "@loggers.logged\n",
    "def sub(a,b):\n",
    "    return a-b\n"
   ],
   "outputs": [
    {
     "output_type": "stream",
     "name": "stdout",
     "text": [
      "Adding logging to add \n",
      "Adding logging to sub \n"
     ]
    }
   ],
   "metadata": {}
  },
  {
   "cell_type": "code",
   "execution_count": 3,
   "source": [
    "add(1,2)"
   ],
   "outputs": [
    {
     "output_type": "stream",
     "name": "stdout",
     "text": [
      "Calling function add\n"
     ]
    },
    {
     "output_type": "execute_result",
     "data": {
      "text/plain": [
       "3"
      ]
     },
     "metadata": {},
     "execution_count": 3
    }
   ],
   "metadata": {}
  },
  {
   "cell_type": "code",
   "execution_count": 4,
   "source": [
    "lambda_add = lambda x,y:x+y\n",
    "logged_lambda_add = loggers.logged(lambda_add)\n"
   ],
   "outputs": [
    {
     "output_type": "stream",
     "name": "stdout",
     "text": [
      "Adding logging to <lambda> \n"
     ]
    }
   ],
   "metadata": {}
  },
  {
   "cell_type": "code",
   "execution_count": 5,
   "source": [
    "## The name of a lambda function is just \"'<lambda>'\"\n",
    "lambda_add.__name__"
   ],
   "outputs": [
    {
     "output_type": "execute_result",
     "data": {
      "text/plain": [
       "'<lambda>'"
      ]
     },
     "metadata": {},
     "execution_count": 5
    }
   ],
   "metadata": {}
  },
  {
   "cell_type": "code",
   "execution_count": 6,
   "source": [
    "logged_lambda_add(2,3)\n"
   ],
   "outputs": [
    {
     "output_type": "stream",
     "name": "stdout",
     "text": [
      "Calling function <lambda>\n"
     ]
    },
    {
     "output_type": "execute_result",
     "data": {
      "text/plain": [
       "5"
      ]
     },
     "metadata": {},
     "execution_count": 6
    }
   ],
   "metadata": {}
  },
  {
   "cell_type": "code",
   "execution_count": 7,
   "source": [
    "@loggers.log_format(fmt=\"CALLING {func.__name__}\")\n",
    "def add(a,b):\n",
    "    return a+b\n",
    "add(2,3)    "
   ],
   "outputs": [
    {
     "output_type": "stream",
     "name": "stdout",
     "text": [
      "Adding log format 'CALLING {func.__name__}' to add \n",
      "CALLING add\n"
     ]
    },
    {
     "output_type": "execute_result",
     "data": {
      "text/plain": [
       "5"
      ]
     },
     "metadata": {},
     "execution_count": 7
    }
   ],
   "metadata": {}
  },
  {
   "cell_type": "code",
   "execution_count": 17,
   "source": [
    "from timethis import timethis\n",
    "\n",
    "#@timethis\n",
    "def dirty_countdown(n):\n",
    "    import time\n",
    "    START_VAL = n\n",
    "    start =  time.time()\n",
    "    while n > 0:\n",
    "        n = n -1\n",
    "    end = time.time()    \n",
    "    print(\"Took %f secs to run the function for n=%d\" % ((end-start),START_VAL))            "
   ],
   "outputs": [],
   "metadata": {}
  },
  {
   "cell_type": "code",
   "execution_count": 18,
   "source": [
    "dirty_countdown(1e5)"
   ],
   "outputs": [
    {
     "output_type": "stream",
     "name": "stdout",
     "text": [
      "Took 0.006294.4 secs to run the function for n=100000\n"
     ]
    }
   ],
   "metadata": {}
  }
 ],
 "metadata": {
  "orig_nbformat": 4,
  "language_info": {
   "name": "python",
   "version": "3.8.2",
   "mimetype": "text/x-python",
   "codemirror_mode": {
    "name": "ipython",
    "version": 3
   },
   "pygments_lexer": "ipython3",
   "nbconvert_exporter": "python",
   "file_extension": ".py"
  },
  "kernelspec": {
   "name": "python3",
   "display_name": "Python 3.8.2 64-bit ('.venv': venv)"
  },
  "interpreter": {
   "hash": "cce4a5697f16280a4d10b7576d65bbb5f75983e07cf642dfa911d50871b8420d"
  }
 },
 "nbformat": 4,
 "nbformat_minor": 2
}